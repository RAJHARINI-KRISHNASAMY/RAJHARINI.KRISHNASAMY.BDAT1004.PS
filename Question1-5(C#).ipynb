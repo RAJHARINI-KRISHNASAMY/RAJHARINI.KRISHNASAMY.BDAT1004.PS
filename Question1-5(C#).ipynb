{
 "cells": [
  {
   "cell_type": "markdown",
   "metadata": {},
   "source": [
    "# QUESTION 1\n",
    "\n",
    "    What data type is each of the following?\n",
    "    5\n",
    "    5.0\n",
    "    5 > 1\n",
    "    '5'\n",
    "    5 * 2\n",
    "    '5' * 2\n",
    "    '5' + '2'\n",
    "    5 / 2\n",
    "    5 // 2\n",
    "    [5, 2, 1]\n",
    "    5 in [1, 4, 6]\n",
    "    math.pi"
   ]
  },
  {
   "cell_type": "code",
   "execution_count": 4,
   "metadata": {},
   "outputs": [],
   "source": [
    "public class DataTypes\n",
    "{\n",
    "    public object[] arr=new object[3]{5,2,1};\n",
    "    public object[] arr1 =new object[3] {1,4,6};//object type is the base class of all types\n",
    "    public void TypeOf(object v)                //Gets called when a single value is passed\n",
    "    {\n",
    "        Console.WriteLine($\"{v.GetType()}\\n\");\n",
    "    }\n",
    "    public void TypeOf(object[] v)              //Gets called when passing an array value\n",
    "    { \n",
    "        Console.WriteLine($\"the type of [5,2,1] is: {v.GetType()}\\n\");\n",
    "    }\n",
    "    public void TypeOf(object v,object[] v1)     //Gets called when passing both array and single value\n",
    "    {\n",
    "        bool n = false;\n",
    "        foreach (object i in v1)\n",
    "        {\n",
    "            if (i==v)\n",
    "            {\n",
    "                n = true;\n",
    "            }\n",
    "        }\n",
    "        Console.WriteLine($\"the type of 5 in [5,2,1] is: {n.GetType()}\\n\");\n",
    "    }\n",
    "}"
   ]
  },
  {
   "cell_type": "code",
   "execution_count": 17,
   "metadata": {},
   "outputs": [
    {
     "name": "stdout",
     "output_type": "stream",
     "text": [
      "Data type of 5\n",
      "System.Int32\n",
      "\n",
      "Data type of 5.0\n",
      "System.Double\n",
      "\n",
      "Data type of 5>1\n",
      "System.Boolean\n",
      "\n",
      "Data type of '5'\n",
      "System.Char\n",
      "\n",
      "Data type of 5*2\n",
      "System.Int32\n",
      "\n",
      "Data type of '5'*2\n",
      "System.Int32\n",
      "\n",
      "Data type of '5'+'2'\n",
      "System.Int32\n",
      "\n",
      "Data type of 5//2\n",
      "System.Int32\n",
      "\n",
      "the type of [5,2,1] is: System.Object[]\n",
      "\n",
      "the type of 5 in [5,2,1] is: System.Boolean\n",
      "\n",
      "Data type of PI\n",
      "System.Double\n",
      "\n"
     ]
    }
   ],
   "source": [
    "DataTypes data= new DataTypes();\n",
    "Console.WriteLine(\"Data type of 5\");\n",
    "data.TypeOf(5);\n",
    "Console.WriteLine(\"Data type of 5.0\");\n",
    "data.TypeOf(5.0);\n",
    "Console.WriteLine(\"Data type of 5>1\");\n",
    "data.TypeOf(5>1);\n",
    "Console.WriteLine(\"Data type of '5'\");\n",
    "data.TypeOf('5');\n",
    "Console.WriteLine(\"Data type of 5*2\");\n",
    "data.TypeOf(5 * 2);\n",
    "Console.WriteLine(\"Data type of '5'*2\");\n",
    "data.TypeOf('5' * 2);\n",
    "Console.WriteLine(\"Data type of '5'+'2'\");\n",
    "data.TypeOf('5' + '2');\n",
    "Console.WriteLine(\"Data type of 5//2\");\n",
    "data.TypeOf(5%2);\n",
    "data.TypeOf(data.arr);\n",
    "data.TypeOf(5,data.arr1);\n",
    "Console.WriteLine(\"Data type of PI\");\n",
    "data.TypeOf(Math.PI);\n"
   ]
  },
  {
   "cell_type": "markdown",
   "metadata": {},
   "source": [
    "# QUESTION 2\n",
    "\n",
    "    a. How many letters are there in 'Supercalifragilisticexpialidocious'?\n",
    "    b. Does 'Supercalifragilisticexpialidocious' contain 'ice' as a substring? \n",
    "    c. Which of the following words is the longest:Supercalifragilisticexpialidocious\n",
    "       , Honorificabilitudinitatibus, or\n",
    "       Bababadalgharaghtakamminarronnkonn?\n",
    "    d. Which composer comes first in the dictionary: 'Berlioz', 'Borodin', 'Brian',\n",
    "       'Bartok', 'Bellini', 'Buxtehude', 'Bernstein'. Which one comes last?\n"
   ]
  },
  {
   "cell_type": "code",
   "execution_count": 14,
   "metadata": {},
   "outputs": [],
   "source": [
    "public class StringOperations\n",
    "{\n",
    "    public void CountLength(string str)\n",
    "    {\n",
    "        Console.WriteLine($\"The length of the string {str} is {str.Length}\\n\");//Length is a pre-defined property of string class\n",
    "    }\n",
    "    public void SubString(string str,string sub)\n",
    "    {\n",
    "        Console.WriteLine($\"The string {sub} in {str} is {str.Contains(sub)}\\n\");//Contains method retuns boolean value \n",
    "    }\n",
    "    public void Longest(string str,string str1,string str2)\n",
    "    {\n",
    "        if(str.Length>=str1.Length)\n",
    "        {\n",
    "            \n",
    "            if(str.Length>=str2.Length)\n",
    "            {\n",
    "                if(str.Length==str1.Length)\n",
    "                {\n",
    "                    Console.WriteLine($\"{str} and {str1} is the longest string\\n\");\n",
    "                }\n",
    "                else if(str.Length==str2.Length)\n",
    "                {\n",
    "                    Console.WriteLine($\"{str} and {str2} is the longest string\\n\");\n",
    "                }\n",
    "                else\n",
    "                {\n",
    "                    Console.WriteLine($\"{str} is the longest string\\n\");\n",
    "                }\n",
    "            }\n",
    "            else\n",
    "            {\n",
    "                Console.WriteLine($\"{str2} is the longest string\\n\");\n",
    "            }\n",
    "        }\n",
    "        else \n",
    "        {\n",
    "            if(str1.Length>=str2.Length)\n",
    "            {\n",
    "                \n",
    "                if(str1.Length==str2.Length)\n",
    "                {\n",
    "                    Console.WriteLine($\"{str1} and {str2} is the longest string\\n\");\n",
    "                }\n",
    "                else\n",
    "                {\n",
    "                    Console.WriteLine($\"{str1} is the longest string\\n\");\n",
    "                }\n",
    "            }\n",
    "            else\n",
    "            {\n",
    "                Console.WriteLine($\"{str2} is the longest string\\n\");\n",
    "            }\n",
    "        }\n",
    "    }\n",
    "    public void DictionarySort(string[] str_array)\n",
    "    {\n",
    "        Array.Sort(str_array);             // Sort ia static method of Array class\n",
    "        Console.WriteLine($\"The {str_array[0]} is the first word\\nAnd {str_array[str_array.Length-1]} is the last word\\n\");\n",
    "        \n",
    "    }\n",
    "}"
   ]
  },
  {
   "cell_type": "code",
   "execution_count": 15,
   "metadata": {},
   "outputs": [
    {
     "name": "stdout",
     "output_type": "stream",
     "text": [
      "The length of the string Supercalifragilisticexpialidocious is 34\n",
      "\n",
      "The string ice in Supercalifragilisticexpialidocious is True\n",
      "\n",
      "Supercalifragilisticexpialidocious and Bababadalgharaghtakamminarronnkonn is the longest string\n",
      "\n",
      "The Bartok is the first word\n",
      "And Buxtehude is the last word\n",
      "\n"
     ]
    }
   ],
   "source": [
    "StringOperations str= new StringOperations();\n",
    "str.CountLength(\"Supercalifragilisticexpialidocious\");\n",
    "str.SubString(\"Supercalifragilisticexpialidocious\",\"ice\");\n",
    "str.Longest(\"Supercalifragilisticexpialidocious\",\"Honorificabilitudinitatibus\",\"Bababadalgharaghtakamminarronnkonn\");\n",
    "string[] str_array= new string[]{\"Berlioz\", \"Borodin\", \"Brian\",\n",
    "       \"Bartok\", \"Bellini\", \"Buxtehude\", \"Bernstein\"};\n",
    "str.DictionarySort(str_array);"
   ]
  },
  {
   "cell_type": "markdown",
   "metadata": {},
   "source": [
    "# QUESTION 3\n",
    "    Implement function triangleArea(a,b,c) that takes as input the lengths of the 3\n",
    "    sides of a triangle and returns the area of the triangle. By Heron's formula, the area\n",
    "    of a triangle with side lengths a, b, and c is\n",
    "    sqrt(s(s - a)(s -b)(s -c))\n",
    "    , where's = (a+b+c)/2.\n",
    "    sample data: \n",
    "    triangleArea(2,2,2)\n",
    "    1.7320508075688772"
   ]
  },
  {
   "cell_type": "code",
   "execution_count": 2,
   "metadata": {},
   "outputs": [],
   "source": [
    "\n",
    "public class AreaOfTriangle\n",
    "{\n",
    "    public void FindTriangleArea(double a, double b, double c)   // decimals are passed under double type in c#\n",
    "    {\n",
    "    double s;\n",
    "    double area;\n",
    "    s=(a+b+c)/2;\n",
    "    area=s*((s-a)*(s-b)*(s-c));\n",
    "    area=System.Math.Sqrt(area);\n",
    "    Console.WriteLine($\"Using Herons Formula the area is :{area}\");\n",
    "    }\n",
    "}"
   ]
  },
  {
   "cell_type": "code",
   "execution_count": 3,
   "metadata": {},
   "outputs": [
    {
     "name": "stdout",
     "output_type": "stream",
     "text": [
      "Using Herons Formula the area is :1.7320508075688772\r\n"
     ]
    }
   ],
   "source": [
    "AreaOfTriangle obj = new AreaOfTriangle();\n",
    "obj.FindTriangleArea(2,2,2);"
   ]
  },
  {
   "cell_type": "markdown",
   "metadata": {},
   "source": [
    "# QUESTION 4\n",
    "    Write a program in C# Sharp to separate odd and even integers in separate arrays.\n",
    "    Go to the editor\n",
    "    Test Data :\n",
    "    Input the number of elements to be stored in the array :5\n",
    "    Input 5 elements in the array :\n",
    "    element - 0 : 25\n",
    "    element - 1 : 47\n",
    "    element - 2 : 42\n",
    "    element - 3 : 56\n",
    "    element - 4 : 32\n",
    "    Expected Output:\n",
    "    The Even elements are:\n",
    "    42 56 32\n",
    "    The Odd elements are :\n",
    "    25 47"
   ]
  },
  {
   "cell_type": "code",
   "execution_count": 16,
   "metadata": {},
   "outputs": [],
   "source": [
    "public class OddOrEven\n",
    "{\n",
    "    public void FindOddOrEven(int[] arr)\n",
    "    {\n",
    "        string even=\"\";\n",
    "        string odd=\"\";\n",
    "        foreach(int i in arr)\n",
    "        {\n",
    "            if(i%2==0)\n",
    "            {\n",
    "                even= even + i +\"\\n\";\n",
    "            }\n",
    "            else\n",
    "            {\n",
    "                odd= odd + i +\"\\n\";\n",
    "            }\n",
    "        }\n",
    "        Console.WriteLine($\"The even elements are:\\n{even}\");\n",
    "        Console.WriteLine($\"The odd nimber are :\\n{odd}\");\n",
    "    }\n",
    "}"
   ]
  },
  {
   "cell_type": "code",
   "execution_count": 17,
   "metadata": {
    "scrolled": true
   },
   "outputs": [
    {
     "name": "stdout",
     "output_type": "stream",
     "text": [
      "The even elements are:\n",
      "42\n",
      "56\n",
      "32\n",
      "\n",
      "The odd nimber are :\n",
      "25\n",
      "47\n",
      "\n"
     ]
    }
   ],
   "source": [
    "OddOrEven obj = new OddOrEven();\n",
    "int[] arr= new int[]{25,47,42,56,32};\n",
    "obj.FindOddOrEven(arr);"
   ]
  },
  {
   "cell_type": "markdown",
   "metadata": {},
   "source": [
    "# QUESTION 5\n",
    "    a. Write a function inside(x,y,x1,y1,x2,y2) that returns True or False\n",
    "    depending on whether the point (x,y) lies in the rectangle with lower left\n",
    "    corner (x1,y1) and upper right corner (x2,y2).\n",
    "    inside(1,1,0,0,2,3)\n",
    "    True\n",
    "    inside(-1,-1,0,0,2,3)\n",
    "    False\n",
    "\n",
    "    b. Use function inside() from part a. to write an expression that tests whether\n",
    "    the point (1,1) lies in both of the following rectangles: one with lower left\n",
    "    corner (0.3, 0.5) and upper right corner (1.1, 0.7) and the other with lower\n",
    "    left corner (0.5, 0.2) and upper right corner (1.1, 2). "
   ]
  },
  {
   "cell_type": "code",
   "execution_count": 47,
   "metadata": {},
   "outputs": [],
   "source": [
    "public class Rectangle\n",
    "{\n",
    "    public bool Inside(double x,double y,double x1,double y1,double x2,double y2)\n",
    "    {\n",
    "        bool inside= (x>=x1 && x<=x2)&&(y>=y1 && y<=y2);\n",
    "        if(inside)\n",
    "        {\n",
    "            return inside;          //exits the function with return value as boolean\n",
    "        }\n",
    "        else\n",
    "        {\n",
    "            return inside;\n",
    "        }\n",
    "    }\n",
    "}"
   ]
  },
  {
   "cell_type": "code",
   "execution_count": 49,
   "metadata": {},
   "outputs": [
    {
     "name": "stdout",
     "output_type": "stream",
     "text": [
      "inside(1,1,0,0,2,3)\n",
      "True\n",
      "\n",
      "inside(-1,-1,0,0,2,3)\n",
      "False\n",
      "\n",
      "(1,1) inside both (0.3,0.5,1.1,0.7) and (0.5,0.2,1.1,2)\n",
      "False\n",
      "\n"
     ]
    }
   ],
   "source": [
    "Rectangle point= new Rectangle();\n",
    "bool inside=point.Inside(1,1,0,0,2,3);\n",
    "Console.WriteLine($\"inside(1,1,0,0,2,3)\\n{inside}\\n\");\n",
    "inside=point.Inside(-1,-1,0,0,2,3);\n",
    "Console.WriteLine($\"inside(-1,-1,0,0,2,3)\\n{inside}\\n\");\n",
    "inside=(point.Inside(1,1,0.3,0.5,1.1,0.7) && point.Inside(1,1,0.5,0.2,1.1,2));\n",
    "Console.WriteLine($\"(1,1) inside both (0.3,0.5,1.1,0.7) and (0.5,0.2,1.1,2)\\n{inside}\\n\");"
   ]
  }
 ],
 "metadata": {
  "kernelspec": {
   "display_name": ".NET (C#)",
   "language": "C#",
   "name": ".net-csharp"
  },
  "language_info": {
   "file_extension": ".cs",
   "mimetype": "text/x-csharp",
   "name": "C#",
   "pygments_lexer": "csharp",
   "version": "8.0"
  }
 },
 "nbformat": 4,
 "nbformat_minor": 4
}
