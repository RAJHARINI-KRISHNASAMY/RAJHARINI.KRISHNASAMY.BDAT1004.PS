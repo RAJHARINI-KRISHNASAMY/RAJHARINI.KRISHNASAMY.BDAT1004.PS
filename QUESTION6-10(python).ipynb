{
 "cells": [
  {
   "cell_type": "markdown",
   "metadata": {},
   "source": [
    "# QUESTION 6\n",
    "     You can turn a word into pig-Latin using the following two rules (simplified):\n",
    "        • If the word starts with a consonant, move that letter to the end and append\n",
    "        'ay'. For example, 'happy' becomes 'appyhay' and 'pencil' becomes 'encilpay'.\n",
    "        • If the word starts with a vowel, simply append 'way' to the end of the word.\n",
    "        For example, 'enter' becomes 'enterway' and 'other' becomes 'otherway' . \n",
    "        \n",
    "        For our purposes, there are 5 vowels: a, e, i, o, u (so we count y as a consonant).\n",
    "        Write a function pig() that takes a word (i.e., a string) as input and returns its pigLatin form. Your function             should still work if the input word contains upper case\n",
    "        characters. Your output should always be lower case however. "
   ]
  },
  {
   "cell_type": "code",
   "execution_count": 5,
   "metadata": {},
   "outputs": [
    {
     "name": "stdout",
     "output_type": "stream",
     "text": [
      "enter a word: pencil\n",
      "Pig-Latin for the given word is: encilpay\n"
     ]
    }
   ],
   "source": [
    "def pig_latin(word):\n",
    "    word.lower()                # lower() method converts all the characters in the string into lower case\n",
    "    vowels=\"aeiou\"              # making it work with both lower case and upper case input\n",
    "    if word[0] in vowels:\n",
    "        word=word+\"way\"         # '+' concadenates two strings\n",
    "        return word\n",
    "    else:\n",
    "        word1=word[1:] + word[0] # [:] is used to slicing selected characters in string\n",
    "        word1 = word1+\"ay\"\n",
    "        return word1\n",
    "word= input(\"enter a word: \")\n",
    "print(\"Pig-Latin for the given word is: \"+ pig_latin(word))\n",
    "        \n",
    "\n",
    "    "
   ]
  },
  {
   "cell_type": "markdown",
   "metadata": {},
   "source": [
    "# QUESTION 7\n",
    "    File bloodtype1.txt records blood-types of patients (A, B, AB, O or OO) at a clinic.\n",
    "    Write a function bldcount() that reads the file with name name and reports (i.e.,\n",
    "    prints) how many patients there are in each bloodtype"
   ]
  },
  {
   "cell_type": "code",
   "execution_count": 26,
   "metadata": {},
   "outputs": [
    {
     "name": "stdout",
     "output_type": "stream",
     "text": [
      "Number of Patients with blood type A \n",
      " 15\n",
      "Number of Patients with blood type B \n",
      " 1\n",
      "Number of Patients with blood type AB \n",
      " 13\n",
      "Number of Patients with blood type O \n",
      " 15\n",
      "Number of Patients with blood type OO \n",
      " 0\n"
     ]
    }
   ],
   "source": [
    "def bldcount(bloodtype):\n",
    "    print(\"Number of Patients with blood type A \\n\",bloodtype.count(\"A\"))\n",
    "    print(\"Number of Patients with blood type B \\n\",bloodtype.count(\"B\"))\n",
    "    print(\"Number of Patients with blood type AB \\n\",bloodtype.count(\"AB\"))\n",
    "    print(\"Number of Patients with blood type O \\n\",bloodtype.count(\"O\"))\n",
    "    print(\"Number of Patients with blood type OO \\n\",bloodtype.count(\"OO\"))\n",
    "f=open(\"blood_type.txt\",\"r\") # opens the file in read mode and it is the default mode\n",
    "contents=f.read()            # file.read() returns value in string \n",
    "f.close\n",
    "contents=contents.split()    # split retuns list of strings and by default splits by spaces\n",
    "bldcount(contents)"
   ]
  },
  {
   "cell_type": "markdown",
   "metadata": {},
   "source": [
    "# QUESTION 8\n",
    "    Write a function curconv() that takes as input:\n",
    "    1. a currency represented using a string (e.g., 'JPY' for the Japanese Yen or\n",
    "    'EUR' for the Euro)\n",
    "    2. an amount\n",
    "    and then converts and returns the amount in US dollars.\n",
    "    curconv('EUR', 100)\n",
    "    122.96544\n",
    "    curconv('JPY', 100)\n",
    "    1.241401"
   ]
  },
  {
   "cell_type": "code",
   "execution_count": 35,
   "metadata": {},
   "outputs": [
    {
     "name": "stdout",
     "output_type": "stream",
     "text": [
      "enter the country and the amount to be converted: EUR 100\n",
      "the amount in dollars is\n",
      " 122.96544\n"
     ]
    }
   ],
   "source": [
    "def curconv(country,amount):\n",
    "    amount=float(amount)\n",
    "    f=open(\"currency.txt\",\"r\")\n",
    "    contents=f.read()\n",
    "    f.close()\n",
    "    contents=contents.split()\n",
    "    if country in contents:\n",
    "        i=contents.index(country)\n",
    "        con_amt=float(contents[i+1]) # i+1 helps access currency value next to the country\n",
    "        print(\"the amount in dollars is\\n\",con_amt*amount)\n",
    "country,amount=input(\"enter the country and the amount to be converted: \").split() # mutiple input with the help of split()  \n",
    "curconv(country,amount)                                                            # input should be given as eg: INR 100"
   ]
  },
  {
   "cell_type": "markdown",
   "metadata": {},
   "source": [
    "# QUESTION 9\n",
    "    Each of the following will cause an exception (an error). Identify what type of\n",
    "    exception each will cause.\n",
    "        Trying to add incompatible variables, as in\n",
    "        adding 6 + ‘a’\n",
    "        Referring to the 12th item of a list that has only 10\n",
    "        items\n",
    "        Using a value that is out of range for a function’s\n",
    "        input, such as calling math.sqrt(-1.0)\n",
    "        Using an undeclared variable, such as print(x)\n",
    "        when x has not been defined\n",
    "        Trying to open a file that does not exist, such as\n",
    "        mistyping the file name or looking in the wrong\n",
    "        directory. "
   ]
  },
  {
   "cell_type": "code",
   "execution_count": 49,
   "metadata": {},
   "outputs": [
    {
     "name": "stdout",
     "output_type": "stream",
     "text": [
      "6 + 'a'\n",
      "It is a TypeError\n",
      "\n",
      "Referring to the 12th item of a list that has only 10 items\n",
      "Index out of Range\n",
      "\n",
      "Using a value that is out of range for a function’s input, such as calling math.sqrt(-1.0)\n",
      "ValueError\n",
      "\n",
      "Trying to open a file that does not exist, such as mistyping the file name or looking in the wrong directory\n",
      "FileNotFound\n",
      "\n"
     ]
    }
   ],
   "source": [
    "import math\n",
    "try:\n",
    "    6 + 'a'\n",
    "except TypeError:\n",
    "    print(\"6 + 'a'\\nIt is a TypeError\\n\")\n",
    "try:\n",
    "    name=[1,2,3,4,5,6,7,8,9,10]\n",
    "    print(name[12])\n",
    "except IndexError:\n",
    "    print(\"Referring to the 12th item of a list that has only 10 items\\nIndex out of Range\\n\")\n",
    "try:\n",
    "    math.sqrt(-1.0)\n",
    "except ValueError:\n",
    "    print(\"Using a value that is out of range for a function’s input, such as calling math.sqrt(-1.0)\\nValueError\\n\")\n",
    "try:\n",
    "    f=open(\"yz.txt\")\n",
    "except:\n",
    "    print(\"Trying to open a file that does not exist, such as mistyping the file name or looking in the wrong directory\\nFileNotFound\\n\")"
   ]
  },
  {
   "cell_type": "markdown",
   "metadata": {},
   "source": [
    "# QUESTION 10\n",
    "    Encryption is the process of hiding the meaning of a text by substituting letters in the\n",
    "    message with other letters, according to some system. If the process is successful, no\n",
    "    one but the intended recipient can understand the encrypted message. Cryptanalysis\n",
    "    refers to attempts to undo the encryption, even if some details of the encryption are\n",
    "    unknown (for example, if an encrypted message has been intercepted). The first step\n",
    "    of cryptanalysis is often to build up a table of letter frequencies in the encrypted text.\n",
    "    Assume that the string letters is already defined as\n",
    "    'abcdefghijklmnopqrstuvwxyz'. Write a function called frequencies()\n",
    "    that takes a string as its only parameter, and returns a list of integers, showing the\n",
    "    number of times each character appears in the text. Your function may ignore any\n",
    "    characters that are not in letters.\n",
    "    frequencies('The quick red fox got bored and went home.')\n",
    "    [1, 1, 1, 3, 5, 1, 1, 2, 1, 0, 1, 0, 1, 2, 4, 0, 1, 2, 0, 2,\n",
    "    1, 0, 1, 1, 0, 0]\n",
    "    frequencies('apple')"
   ]
  },
  {
   "cell_type": "code",
   "execution_count": 3,
   "metadata": {},
   "outputs": [
    {
     "name": "stdout",
     "output_type": "stream",
     "text": [
      "[1, 1, 1, 3, 5, 1, 1, 2, 1, 0, 1, 0, 1, 2, 4, 0, 1, 2, 0, 2, 1, 0, 1, 1, 0, 0]\n",
      "[1, 0, 0, 0, 1, 0, 0, 0, 0, 0, 0, 1, 0, 0, 0, 2, 0, 0, 0, 0, 0, 0, 0, 0, 0, 0]\n"
     ]
    }
   ],
   "source": [
    "def frequencies(received_letter):\n",
    "    lst=[]\n",
    "    string_letter=\"abcdefghijklmnopqrstuvwxyz\"\n",
    "    received_letter=received_letter.strip()  # strips the letter of unnecessary space\n",
    "    for i in string_letter:                  # also prevents taking unnecessary symbols other than letters\n",
    "        n=0\n",
    "        for j in received_letter:            \n",
    "            if(i==j):\n",
    "                n=n+1                        \n",
    "        lst.append(n)\n",
    "    print(lst)\n",
    "frequencies(\"The quick red fox got bored and went home.\");\n",
    "frequencies(\"apple\");               "
   ]
  }
 ],
 "metadata": {
  "kernelspec": {
   "display_name": "Python 3",
   "language": "python",
   "name": "python3"
  },
  "language_info": {
   "codemirror_mode": {
    "name": "ipython",
    "version": 3
   },
   "file_extension": ".py",
   "mimetype": "text/x-python",
   "name": "python",
   "nbconvert_exporter": "python",
   "pygments_lexer": "ipython3",
   "version": "3.8.5"
  }
 },
 "nbformat": 4,
 "nbformat_minor": 4
}
